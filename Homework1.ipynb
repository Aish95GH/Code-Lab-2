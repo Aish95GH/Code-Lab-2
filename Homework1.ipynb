{
 "cells": [
  {
   "cell_type": "markdown",
   "metadata": {},
   "source": [
    "#### 1. Given the list: ['Yale','MIT', 'Santa Clara University', 'Stanford'] write a Python code to sort the list by the length of each element from the longest to the shortest."
   ]
  },
  {
   "cell_type": "code",
   "execution_count": 124,
   "metadata": {
    "collapsed": false
   },
   "outputs": [
    {
     "name": "stdout",
     "output_type": "stream",
     "text": [
      "['Santa Clara University', 'Stanford', 'Yale', 'MIT']\n"
     ]
    }
   ],
   "source": [
    "uni_names = ['Yale','MIT', 'Santa Clara University', 'Stanford']\n",
    "\n",
    "def sorting(uni_names):\n",
    "    \n",
    "    uni_names.sort(key=len,reverse=True)\n",
    "    return uni_names\n",
    "\n",
    "UN=sorting(uni_names)\n",
    "print(UN)"
   ]
  },
  {
   "cell_type": "markdown",
   "metadata": {},
   "source": [
    "#### 2. Write a code that takes a list of characters and returns the frequencies in a descending order: Example: ['a', 'c', 'a', 'b', 'a', 'c'] ==> {'a':3, 'c':2, 'b':1}"
   ]
  },
  {
   "cell_type": "code",
   "execution_count": 125,
   "metadata": {
    "collapsed": false
   },
   "outputs": [
    {
     "name": "stdout",
     "output_type": "stream",
     "text": [
      "{'a': 3, 'c': 2, 'b': 1}\n"
     ]
    }
   ],
   "source": [
    "lt=['a', 'c', 'a', 'b', 'a', 'c']\n",
    "\n",
    "ch={}\n",
    "\n",
    "for i in lt:\n",
    "    if(i in ch):\n",
    "        ch[i]=ch[i]+1\n",
    "    else:\n",
    "        ch[i]=1\n",
    "print(ch)\n"
   ]
  },
  {
   "cell_type": "markdown",
   "metadata": {},
   "source": [
    "#### 3. Using a list comprehension, write an expression that takes the words ['Apple', 'Banana', 'Pear', 'Strawberry'] and returns the words that do not start with \"S\" and the number of characters. Output: [('Apple',5), ('Banana',6), ('Pear',4)]."
   ]
  },
  {
   "cell_type": "code",
   "execution_count": 126,
   "metadata": {
    "collapsed": false
   },
   "outputs": [
    {
     "name": "stdout",
     "output_type": "stream",
     "text": [
      "[('Apple', 5), ('Banana', 6), ('Pear', 4)]\n"
     ]
    }
   ],
   "source": [
    "words=['Apple', 'Banana', 'Pear', 'Strawberry']\n",
    "\n",
    "wordsNoS=[(w,len(w))   for w in words if w[0] !='S']\n",
    "print(wordsNoS)"
   ]
  }
 ],
 "metadata": {
  "kernelspec": {
   "display_name": "Python 2",
   "language": "python",
   "name": "python2"
  },
  "language_info": {
   "codemirror_mode": {
    "name": "ipython",
    "version": 3
   },
   "file_extension": ".py",
   "mimetype": "text/x-python",
   "name": "python",
   "nbconvert_exporter": "python",
   "pygments_lexer": "ipython3",
   "version": "3.8.5"
  }
 },
 "nbformat": 4,
 "nbformat_minor": 4
}
